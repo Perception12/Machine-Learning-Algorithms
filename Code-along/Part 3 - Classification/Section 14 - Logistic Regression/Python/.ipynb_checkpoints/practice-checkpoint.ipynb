{
 "cells": [
  {
   "cell_type": "code",
   "execution_count": 1,
   "id": "0ba7df43-bd40-4689-bd8f-c7aaddf82983",
   "metadata": {},
   "outputs": [],
   "source": [
    "import numpy as np\n",
    "import matplotlib.pyplot as plt\n",
    "import pandas as pd"
   ]
  },
  {
   "cell_type": "code",
   "execution_count": 2,
   "id": "232128c7-bc1d-44fc-a688-a5d8920b188d",
   "metadata": {},
   "outputs": [],
   "source": [
    "dataset = pd.read_csv('Social_Network_Ads.csv')\n",
    "X = dataset.iloc[:, :-1].values\n",
    "y = dataset.iloc[:, -1].values "
   ]
  },
  {
   "cell_type": "code",
   "execution_count": 5,
   "id": "070e9e57-c174-4f70-82d6-a5001fea6e8a",
   "metadata": {},
   "outputs": [],
   "source": [
    "## Splitting dataset into training and test sets"
   ]
  },
  {
   "cell_type": "code",
   "execution_count": 6,
   "id": "fd18a261-0007-4975-8981-0c2afead6ff0",
   "metadata": {},
   "outputs": [],
   "source": [
    "# Feature Scaling"
   ]
  },
  {
   "cell_type": "code",
   "execution_count": 7,
   "id": "cd9f7910-3809-4bd1-92de-80f988740504",
   "metadata": {},
   "outputs": [],
   "source": [
    "# Training Logistic Regression MOdel on training set"
   ]
  },
  {
   "cell_type": "code",
   "execution_count": 8,
   "id": "402a7b47-fd26-4244-8d18-f0a1a8796276",
   "metadata": {},
   "outputs": [],
   "source": [
    "## Predicting New Result"
   ]
  },
  {
   "cell_type": "code",
   "execution_count": 9,
   "id": "327c0106-1139-4247-aea5-6a0e95714f97",
   "metadata": {},
   "outputs": [],
   "source": [
    "## Predicting the Test Results"
   ]
  },
  {
   "cell_type": "code",
   "execution_count": 10,
   "id": "fc28d867-0cdb-45a4-8c6c-54f2fd22b1ff",
   "metadata": {},
   "outputs": [],
   "source": [
    "## making the confusion matrix"
   ]
  },
  {
   "cell_type": "code",
   "execution_count": 11,
   "id": "4570cbe2-ee9d-44a3-a271-f4f3a1e97d3a",
   "metadata": {},
   "outputs": [],
   "source": [
    "## Visualizing the training set result"
   ]
  },
  {
   "cell_type": "code",
   "execution_count": null,
   "id": "3da72184-2ef8-4b32-98c6-b5026f67637d",
   "metadata": {},
   "outputs": [],
   "source": [
    "## Visuallizing the Test set REsult"
   ]
  }
 ],
 "metadata": {
  "kernelspec": {
   "display_name": "Python 3 (ipykernel)",
   "language": "python",
   "name": "python3"
  },
  "language_info": {
   "codemirror_mode": {
    "name": "ipython",
    "version": 3
   },
   "file_extension": ".py",
   "mimetype": "text/x-python",
   "name": "python",
   "nbconvert_exporter": "python",
   "pygments_lexer": "ipython3",
   "version": "3.12.3"
  }
 },
 "nbformat": 4,
 "nbformat_minor": 5
}
