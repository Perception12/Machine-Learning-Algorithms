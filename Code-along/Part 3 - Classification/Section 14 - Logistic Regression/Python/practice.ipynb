{
 "cells": [
  {
   "cell_type": "code",
   "execution_count": 1,
   "id": "0ba7df43-bd40-4689-bd8f-c7aaddf82983",
   "metadata": {},
   "outputs": [],
   "source": [
    "import numpy as np\n",
    "import matplotlib.pyplot as plt\n",
    "import pandas as pd"
   ]
  },
  {
   "cell_type": "code",
   "execution_count": 2,
   "id": "232128c7-bc1d-44fc-a688-a5d8920b188d",
   "metadata": {},
   "outputs": [],
   "source": [
    "dataset = pd.read_csv('Social_Network_Ads.csv')\n",
    "X = dataset.iloc[:, :-1].values\n",
    "y = dataset.iloc[:, -1].values "
   ]
  },
  {
   "cell_type": "markdown",
   "id": "69917bb3-5030-4114-90e7-d68eb9832941",
   "metadata": {},
   "source": [
    "## Splitting dataset into training and test sets"
   ]
  },
  {
   "cell_type": "code",
   "execution_count": 3,
   "id": "52347bdb-f97e-4606-be4f-68bbbe9be21e",
   "metadata": {},
   "outputs": [],
   "source": [
    "from sklearn.model_selection import train_test_split\n",
    "\n",
    "X_train, X_test, y_train, y_test = train_test_split(X, y, test_size=0.2, random_state=0)"
   ]
  },
  {
   "cell_type": "markdown",
   "id": "eb3da3f6-8c19-4476-bbca-010c28edf807",
   "metadata": {},
   "source": [
    "## Feature Scaling"
   ]
  },
  {
   "cell_type": "code",
   "execution_count": 5,
   "id": "066dcb1f-0c94-4a3f-9f1f-9f50a64b37e2",
   "metadata": {},
   "outputs": [],
   "source": [
    "from sklearn.preprocessing import StandardScaler\n",
    "\n",
    "scaler = StandardScaler()\n",
    "X_train = scaler.fit_transform(X_train)\n",
    "X_test = scaler.transform(X_test)"
   ]
  },
  {
   "cell_type": "markdown",
   "id": "f35b9f20-1a83-441e-a836-341022b7b607",
   "metadata": {},
   "source": [
    "## Training Logistic Regression Model on training set"
   ]
  },
  {
   "cell_type": "code",
   "execution_count": null,
   "id": "76185938-3c82-4980-937d-dea224f3acfa",
   "metadata": {},
   "outputs": [],
   "source": [
    "from sklearn.linear_model import LogisticRegression"
   ]
  },
  {
   "cell_type": "markdown",
   "id": "b57b64e2-e07b-4133-b462-a4729a79ebe1",
   "metadata": {},
   "source": [
    "## Predicting New Result"
   ]
  },
  {
   "cell_type": "code",
   "execution_count": null,
   "id": "29e8d9f1-af7d-4fbf-98dd-da73e462cb3f",
   "metadata": {},
   "outputs": [],
   "source": []
  },
  {
   "cell_type": "code",
   "execution_count": 9,
   "id": "327c0106-1139-4247-aea5-6a0e95714f97",
   "metadata": {},
   "outputs": [],
   "source": [
    "## Predicting the Test Results"
   ]
  },
  {
   "cell_type": "code",
   "execution_count": 10,
   "id": "fc28d867-0cdb-45a4-8c6c-54f2fd22b1ff",
   "metadata": {},
   "outputs": [],
   "source": [
    "## making the confusion matrix"
   ]
  },
  {
   "cell_type": "code",
   "execution_count": 11,
   "id": "4570cbe2-ee9d-44a3-a271-f4f3a1e97d3a",
   "metadata": {},
   "outputs": [],
   "source": [
    "## Visualizing the training set result"
   ]
  },
  {
   "cell_type": "code",
   "execution_count": null,
   "id": "3da72184-2ef8-4b32-98c6-b5026f67637d",
   "metadata": {},
   "outputs": [],
   "source": [
    "## Visuallizing the Test set REsult"
   ]
  }
 ],
 "metadata": {
  "kernelspec": {
   "display_name": "Python 3 (ipykernel)",
   "language": "python",
   "name": "python3"
  },
  "language_info": {
   "codemirror_mode": {
    "name": "ipython",
    "version": 3
   },
   "file_extension": ".py",
   "mimetype": "text/x-python",
   "name": "python",
   "nbconvert_exporter": "python",
   "pygments_lexer": "ipython3",
   "version": "3.12.3"
  }
 },
 "nbformat": 4,
 "nbformat_minor": 5
}
