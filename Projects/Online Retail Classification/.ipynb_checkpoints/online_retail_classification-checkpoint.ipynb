{
 "cells": [
  {
   "cell_type": "markdown",
   "id": "416b4b31-14eb-41e3-85c9-d94c72f781b4",
   "metadata": {},
   "source": [
    "## Online Retail Classification and Clustering using K-Means Clustering Algorithm"
   ]
  },
  {
   "cell_type": "markdown",
   "id": "5424d1cf-0562-4cb7-947c-7484fc414713",
   "metadata": {},
   "source": [
    "### Importing the Libraries"
   ]
  },
  {
   "cell_type": "code",
   "execution_count": 130,
   "id": "b5956be4-fed1-4ec1-b08a-fe3e33ca7470",
   "metadata": {},
   "outputs": [],
   "source": [
    "import numpy as np\n",
    "import matplotlib.pyplot as plt\n",
    "import pandas as pd\n",
    "import seaborn as sns"
   ]
  },
  {
   "cell_type": "markdown",
   "id": "72e3a12f-6e59-4fed-8dd8-4c38e0481499",
   "metadata": {},
   "source": [
    "### Get the dataset"
   ]
  },
  {
   "cell_type": "code",
   "execution_count": 6,
   "id": "8b0af400-2349-4330-b5ce-da1b04ae4dc7",
   "metadata": {},
   "outputs": [],
   "source": [
    "dataset = pd.read_excel('Online Retail.xlsx')"
   ]
  },
  {
   "cell_type": "code",
   "execution_count": 7,
   "id": "0f8e96b6-f220-4f22-ae8c-bf5b50fcb681",
   "metadata": {},
   "outputs": [
    {
     "data": {
      "text/html": [
       "<div>\n",
       "<style scoped>\n",
       "    .dataframe tbody tr th:only-of-type {\n",
       "        vertical-align: middle;\n",
       "    }\n",
       "\n",
       "    .dataframe tbody tr th {\n",
       "        vertical-align: top;\n",
       "    }\n",
       "\n",
       "    .dataframe thead th {\n",
       "        text-align: right;\n",
       "    }\n",
       "</style>\n",
       "<table border=\"1\" class=\"dataframe\">\n",
       "  <thead>\n",
       "    <tr style=\"text-align: right;\">\n",
       "      <th></th>\n",
       "      <th>InvoiceNo</th>\n",
       "      <th>StockCode</th>\n",
       "      <th>Description</th>\n",
       "      <th>Quantity</th>\n",
       "      <th>InvoiceDate</th>\n",
       "      <th>UnitPrice</th>\n",
       "      <th>CustomerID</th>\n",
       "      <th>Country</th>\n",
       "    </tr>\n",
       "  </thead>\n",
       "  <tbody>\n",
       "    <tr>\n",
       "      <th>0</th>\n",
       "      <td>536365</td>\n",
       "      <td>85123A</td>\n",
       "      <td>WHITE HANGING HEART T-LIGHT HOLDER</td>\n",
       "      <td>6</td>\n",
       "      <td>2010-12-01 08:26:00</td>\n",
       "      <td>2.55</td>\n",
       "      <td>17850.0</td>\n",
       "      <td>United Kingdom</td>\n",
       "    </tr>\n",
       "    <tr>\n",
       "      <th>1</th>\n",
       "      <td>536365</td>\n",
       "      <td>71053</td>\n",
       "      <td>WHITE METAL LANTERN</td>\n",
       "      <td>6</td>\n",
       "      <td>2010-12-01 08:26:00</td>\n",
       "      <td>3.39</td>\n",
       "      <td>17850.0</td>\n",
       "      <td>United Kingdom</td>\n",
       "    </tr>\n",
       "    <tr>\n",
       "      <th>2</th>\n",
       "      <td>536365</td>\n",
       "      <td>84406B</td>\n",
       "      <td>CREAM CUPID HEARTS COAT HANGER</td>\n",
       "      <td>8</td>\n",
       "      <td>2010-12-01 08:26:00</td>\n",
       "      <td>2.75</td>\n",
       "      <td>17850.0</td>\n",
       "      <td>United Kingdom</td>\n",
       "    </tr>\n",
       "    <tr>\n",
       "      <th>3</th>\n",
       "      <td>536365</td>\n",
       "      <td>84029G</td>\n",
       "      <td>KNITTED UNION FLAG HOT WATER BOTTLE</td>\n",
       "      <td>6</td>\n",
       "      <td>2010-12-01 08:26:00</td>\n",
       "      <td>3.39</td>\n",
       "      <td>17850.0</td>\n",
       "      <td>United Kingdom</td>\n",
       "    </tr>\n",
       "    <tr>\n",
       "      <th>4</th>\n",
       "      <td>536365</td>\n",
       "      <td>84029E</td>\n",
       "      <td>RED WOOLLY HOTTIE WHITE HEART.</td>\n",
       "      <td>6</td>\n",
       "      <td>2010-12-01 08:26:00</td>\n",
       "      <td>3.39</td>\n",
       "      <td>17850.0</td>\n",
       "      <td>United Kingdom</td>\n",
       "    </tr>\n",
       "    <tr>\n",
       "      <th>5</th>\n",
       "      <td>536365</td>\n",
       "      <td>22752</td>\n",
       "      <td>SET 7 BABUSHKA NESTING BOXES</td>\n",
       "      <td>2</td>\n",
       "      <td>2010-12-01 08:26:00</td>\n",
       "      <td>7.65</td>\n",
       "      <td>17850.0</td>\n",
       "      <td>United Kingdom</td>\n",
       "    </tr>\n",
       "    <tr>\n",
       "      <th>6</th>\n",
       "      <td>536365</td>\n",
       "      <td>21730</td>\n",
       "      <td>GLASS STAR FROSTED T-LIGHT HOLDER</td>\n",
       "      <td>6</td>\n",
       "      <td>2010-12-01 08:26:00</td>\n",
       "      <td>4.25</td>\n",
       "      <td>17850.0</td>\n",
       "      <td>United Kingdom</td>\n",
       "    </tr>\n",
       "    <tr>\n",
       "      <th>7</th>\n",
       "      <td>536366</td>\n",
       "      <td>22633</td>\n",
       "      <td>HAND WARMER UNION JACK</td>\n",
       "      <td>6</td>\n",
       "      <td>2010-12-01 08:28:00</td>\n",
       "      <td>1.85</td>\n",
       "      <td>17850.0</td>\n",
       "      <td>United Kingdom</td>\n",
       "    </tr>\n",
       "    <tr>\n",
       "      <th>8</th>\n",
       "      <td>536366</td>\n",
       "      <td>22632</td>\n",
       "      <td>HAND WARMER RED POLKA DOT</td>\n",
       "      <td>6</td>\n",
       "      <td>2010-12-01 08:28:00</td>\n",
       "      <td>1.85</td>\n",
       "      <td>17850.0</td>\n",
       "      <td>United Kingdom</td>\n",
       "    </tr>\n",
       "    <tr>\n",
       "      <th>9</th>\n",
       "      <td>536367</td>\n",
       "      <td>84879</td>\n",
       "      <td>ASSORTED COLOUR BIRD ORNAMENT</td>\n",
       "      <td>32</td>\n",
       "      <td>2010-12-01 08:34:00</td>\n",
       "      <td>1.69</td>\n",
       "      <td>13047.0</td>\n",
       "      <td>United Kingdom</td>\n",
       "    </tr>\n",
       "  </tbody>\n",
       "</table>\n",
       "</div>"
      ],
      "text/plain": [
       "  InvoiceNo StockCode                          Description  Quantity  \\\n",
       "0    536365    85123A   WHITE HANGING HEART T-LIGHT HOLDER         6   \n",
       "1    536365     71053                  WHITE METAL LANTERN         6   \n",
       "2    536365    84406B       CREAM CUPID HEARTS COAT HANGER         8   \n",
       "3    536365    84029G  KNITTED UNION FLAG HOT WATER BOTTLE         6   \n",
       "4    536365    84029E       RED WOOLLY HOTTIE WHITE HEART.         6   \n",
       "5    536365     22752         SET 7 BABUSHKA NESTING BOXES         2   \n",
       "6    536365     21730    GLASS STAR FROSTED T-LIGHT HOLDER         6   \n",
       "7    536366     22633               HAND WARMER UNION JACK         6   \n",
       "8    536366     22632            HAND WARMER RED POLKA DOT         6   \n",
       "9    536367     84879        ASSORTED COLOUR BIRD ORNAMENT        32   \n",
       "\n",
       "          InvoiceDate  UnitPrice  CustomerID         Country  \n",
       "0 2010-12-01 08:26:00       2.55     17850.0  United Kingdom  \n",
       "1 2010-12-01 08:26:00       3.39     17850.0  United Kingdom  \n",
       "2 2010-12-01 08:26:00       2.75     17850.0  United Kingdom  \n",
       "3 2010-12-01 08:26:00       3.39     17850.0  United Kingdom  \n",
       "4 2010-12-01 08:26:00       3.39     17850.0  United Kingdom  \n",
       "5 2010-12-01 08:26:00       7.65     17850.0  United Kingdom  \n",
       "6 2010-12-01 08:26:00       4.25     17850.0  United Kingdom  \n",
       "7 2010-12-01 08:28:00       1.85     17850.0  United Kingdom  \n",
       "8 2010-12-01 08:28:00       1.85     17850.0  United Kingdom  \n",
       "9 2010-12-01 08:34:00       1.69     13047.0  United Kingdom  "
      ]
     },
     "execution_count": 7,
     "metadata": {},
     "output_type": "execute_result"
    }
   ],
   "source": [
    "dataset.head(10)"
   ]
  },
  {
   "cell_type": "code",
   "execution_count": 8,
   "id": "c91b3906-272f-430f-8abf-0a56a3faae51",
   "metadata": {},
   "outputs": [
    {
     "name": "stdout",
     "output_type": "stream",
     "text": [
      "<class 'pandas.core.frame.DataFrame'>\n",
      "RangeIndex: 541909 entries, 0 to 541908\n",
      "Data columns (total 8 columns):\n",
      " #   Column       Non-Null Count   Dtype         \n",
      "---  ------       --------------   -----         \n",
      " 0   InvoiceNo    541909 non-null  object        \n",
      " 1   StockCode    541909 non-null  object        \n",
      " 2   Description  540455 non-null  object        \n",
      " 3   Quantity     541909 non-null  int64         \n",
      " 4   InvoiceDate  541909 non-null  datetime64[ns]\n",
      " 5   UnitPrice    541909 non-null  float64       \n",
      " 6   CustomerID   406829 non-null  float64       \n",
      " 7   Country      541909 non-null  object        \n",
      "dtypes: datetime64[ns](1), float64(2), int64(1), object(4)\n",
      "memory usage: 33.1+ MB\n"
     ]
    }
   ],
   "source": [
    "dataset.info()"
   ]
  },
  {
   "cell_type": "markdown",
   "id": "15c7262b-a479-4b9f-a40e-ee325437ff03",
   "metadata": {},
   "source": [
    "### Filter out cancelled transactions (InvoiceNo starting with 'C')"
   ]
  },
  {
   "cell_type": "code",
   "execution_count": 9,
   "id": "1dfd0ee1-00da-47ff-886e-e9799702f174",
   "metadata": {},
   "outputs": [],
   "source": [
    "# Filter out cancelled transactions (InvoiceNo starting with 'C')\n",
    "def filterValidTransaction(invoiceNo):\n",
    "    invoiceNo = str(invoiceNo)\n",
    "    if invoiceNo.startswith('C'):\n",
    "        return False\n",
    "    else: return True\n",
    "\n",
    "filtered_dataset = dataset[dataset['InvoiceNo'].apply(filterValidTransaction)]"
   ]
  },
  {
   "cell_type": "code",
   "execution_count": 10,
   "id": "63dbd244-2a29-42b2-9a5c-595f4f33c7b2",
   "metadata": {},
   "outputs": [
    {
     "name": "stdout",
     "output_type": "stream",
     "text": [
      "<class 'pandas.core.frame.DataFrame'>\n",
      "Index: 532621 entries, 0 to 541908\n",
      "Data columns (total 8 columns):\n",
      " #   Column       Non-Null Count   Dtype         \n",
      "---  ------       --------------   -----         \n",
      " 0   InvoiceNo    532621 non-null  object        \n",
      " 1   StockCode    532621 non-null  object        \n",
      " 2   Description  531167 non-null  object        \n",
      " 3   Quantity     532621 non-null  int64         \n",
      " 4   InvoiceDate  532621 non-null  datetime64[ns]\n",
      " 5   UnitPrice    532621 non-null  float64       \n",
      " 6   CustomerID   397924 non-null  float64       \n",
      " 7   Country      532621 non-null  object        \n",
      "dtypes: datetime64[ns](1), float64(2), int64(1), object(4)\n",
      "memory usage: 36.6+ MB\n"
     ]
    }
   ],
   "source": [
    "filtered_dataset.info()"
   ]
  },
  {
   "cell_type": "markdown",
   "id": "7c3058da-6d4d-4344-8d0a-6a253d1c804e",
   "metadata": {},
   "source": [
    "### Get the total number of customers that made valid transactions over the year"
   ]
  },
  {
   "cell_type": "code",
   "execution_count": 11,
   "id": "acd27543-cc21-4715-8d06-d7931df342ee",
   "metadata": {},
   "outputs": [
    {
     "name": "stdout",
     "output_type": "stream",
     "text": [
      "4340\n"
     ]
    }
   ],
   "source": [
    "customer_count = len(filtered_dataset['CustomerID'].unique())\n",
    "print(customer_count)"
   ]
  },
  {
   "cell_type": "markdown",
   "id": "8aea1217-183a-4d51-ba01-7bab7eda10a0",
   "metadata": {},
   "source": [
    "### Get the total number of valid transactions"
   ]
  },
  {
   "cell_type": "code",
   "execution_count": 12,
   "id": "bbd0f159-6870-40d2-b503-0d5e44f3ceea",
   "metadata": {},
   "outputs": [
    {
     "name": "stdout",
     "output_type": "stream",
     "text": [
      "19990\n"
     ]
    }
   ],
   "source": [
    "valid_transaction_count = len(filtered_dataset['InvoiceDate'].unique())\n",
    "print(valid_transaction_count)"
   ]
  },
  {
   "cell_type": "code",
   "execution_count": 13,
   "id": "90f72608-8a4f-4a06-9e0f-ed196fd0cff0",
   "metadata": {},
   "outputs": [],
   "source": [
    "filtered_dataset=filtered_dataset.drop('Description', axis=1)"
   ]
  },
  {
   "cell_type": "markdown",
   "id": "ec5de45e-a388-4722-aa3e-e38c928aae1e",
   "metadata": {},
   "source": [
    "### Get unique customer countries"
   ]
  },
  {
   "cell_type": "code",
   "execution_count": 14,
   "id": "c22a5c20-24b5-4e21-b55f-673e8309a07d",
   "metadata": {},
   "outputs": [
    {
     "data": {
      "text/plain": [
       "array(['United Kingdom', 'France', 'Australia', 'Netherlands', 'Germany',\n",
       "       'Norway', 'EIRE', 'Switzerland', 'Spain', 'Poland', 'Portugal',\n",
       "       'Italy', 'Belgium', 'Lithuania', 'Japan', 'Iceland',\n",
       "       'Channel Islands', 'Denmark', 'Cyprus', 'Sweden', 'Finland',\n",
       "       'Austria', 'Bahrain', 'Israel', 'Greece', 'Hong Kong', 'Singapore',\n",
       "       'Lebanon', 'United Arab Emirates', 'Saudi Arabia',\n",
       "       'Czech Republic', 'Canada', 'Unspecified', 'Brazil', 'USA',\n",
       "       'European Community', 'Malta', 'RSA'], dtype=object)"
      ]
     },
     "execution_count": 14,
     "metadata": {},
     "output_type": "execute_result"
    }
   ],
   "source": [
    "filtered_dataset['Country'].unique()"
   ]
  },
  {
   "cell_type": "markdown",
   "id": "4f7a8e17-1932-43bf-b945-83fd559cd6ef",
   "metadata": {},
   "source": [
    "### Create an aggregated variable named Amount, by multiplying Quantity with Price"
   ]
  },
  {
   "cell_type": "code",
   "execution_count": 15,
   "id": "fba8a65b-1028-49b7-b826-3f5befcd9161",
   "metadata": {},
   "outputs": [],
   "source": [
    "filtered_dataset['Amount'] = filtered_dataset['Quantity']*filtered_dataset['UnitPrice']"
   ]
  },
  {
   "cell_type": "markdown",
   "id": "fca1d3a5-ff0b-4e64-91f3-2eeb469b0d9f",
   "metadata": {},
   "source": [
    "### Separate the variable InvoiceDate into two variables Date and Time"
   ]
  },
  {
   "cell_type": "code",
   "execution_count": 16,
   "id": "f1ff98af-951b-4daa-af46-b46479657da2",
   "metadata": {},
   "outputs": [],
   "source": [
    "filtered_dataset['Date']=filtered_dataset['InvoiceDate'].dt.date\n",
    "filtered_dataset['Time']=filtered_dataset['InvoiceDate'].dt.time"
   ]
  },
  {
   "cell_type": "markdown",
   "id": "fab618cd-3234-4a9e-bc0e-75ff4eb56192",
   "metadata": {},
   "source": [
    "### Filter out any transactions that do not have CustomerID associated with it"
   ]
  },
  {
   "cell_type": "code",
   "execution_count": 17,
   "id": "d0fa6cf6-95e3-432f-a041-8947d0a3ffd4",
   "metadata": {},
   "outputs": [],
   "source": [
    "filtered_dataset = filtered_dataset.dropna(subset='CustomerID')"
   ]
  },
  {
   "cell_type": "code",
   "execution_count": 18,
   "id": "0a85595d-9732-47e9-aa8f-9de923e51d24",
   "metadata": {},
   "outputs": [
    {
     "data": {
      "text/plain": [
       "InvoiceNo      397924\n",
       "StockCode      397924\n",
       "Quantity       397924\n",
       "InvoiceDate    397924\n",
       "UnitPrice      397924\n",
       "CustomerID     397924\n",
       "Country        397924\n",
       "Amount         397924\n",
       "Date           397924\n",
       "Time           397924\n",
       "dtype: int64"
      ]
     },
     "execution_count": 18,
     "metadata": {},
     "output_type": "execute_result"
    }
   ],
   "source": [
    "filtered_dataset.count()"
   ]
  },
  {
   "cell_type": "code",
   "execution_count": 21,
   "id": "28044211-6015-4a58-8320-8846f2c2f1e8",
   "metadata": {},
   "outputs": [],
   "source": [
    "filtered_dataset = filtered_dataset.sort_values(by=['CustomerID'])"
   ]
  },
  {
   "cell_type": "code",
   "execution_count": 22,
   "id": "e9238749-4e26-4142-b15b-f9378b71accc",
   "metadata": {},
   "outputs": [
    {
     "data": {
      "text/html": [
       "<div>\n",
       "<style scoped>\n",
       "    .dataframe tbody tr th:only-of-type {\n",
       "        vertical-align: middle;\n",
       "    }\n",
       "\n",
       "    .dataframe tbody tr th {\n",
       "        vertical-align: top;\n",
       "    }\n",
       "\n",
       "    .dataframe thead th {\n",
       "        text-align: right;\n",
       "    }\n",
       "</style>\n",
       "<table border=\"1\" class=\"dataframe\">\n",
       "  <thead>\n",
       "    <tr style=\"text-align: right;\">\n",
       "      <th></th>\n",
       "      <th>InvoiceNo</th>\n",
       "      <th>StockCode</th>\n",
       "      <th>Quantity</th>\n",
       "      <th>InvoiceDate</th>\n",
       "      <th>UnitPrice</th>\n",
       "      <th>CustomerID</th>\n",
       "      <th>Country</th>\n",
       "      <th>Amount</th>\n",
       "      <th>Date</th>\n",
       "      <th>Time</th>\n",
       "    </tr>\n",
       "  </thead>\n",
       "  <tbody>\n",
       "    <tr>\n",
       "      <th>61619</th>\n",
       "      <td>541431</td>\n",
       "      <td>23166</td>\n",
       "      <td>74215</td>\n",
       "      <td>2011-01-18 10:01:00</td>\n",
       "      <td>1.04</td>\n",
       "      <td>12346.0</td>\n",
       "      <td>United Kingdom</td>\n",
       "      <td>77183.60</td>\n",
       "      <td>2011-01-18</td>\n",
       "      <td>10:01:00</td>\n",
       "    </tr>\n",
       "    <tr>\n",
       "      <th>286633</th>\n",
       "      <td>562032</td>\n",
       "      <td>47559B</td>\n",
       "      <td>10</td>\n",
       "      <td>2011-08-02 08:48:00</td>\n",
       "      <td>1.25</td>\n",
       "      <td>12347.0</td>\n",
       "      <td>Iceland</td>\n",
       "      <td>12.50</td>\n",
       "      <td>2011-08-02</td>\n",
       "      <td>08:48:00</td>\n",
       "    </tr>\n",
       "    <tr>\n",
       "      <th>286627</th>\n",
       "      <td>562032</td>\n",
       "      <td>22372</td>\n",
       "      <td>4</td>\n",
       "      <td>2011-08-02 08:48:00</td>\n",
       "      <td>4.25</td>\n",
       "      <td>12347.0</td>\n",
       "      <td>Iceland</td>\n",
       "      <td>17.00</td>\n",
       "      <td>2011-08-02</td>\n",
       "      <td>08:48:00</td>\n",
       "    </tr>\n",
       "    <tr>\n",
       "      <th>286638</th>\n",
       "      <td>562032</td>\n",
       "      <td>23175</td>\n",
       "      <td>4</td>\n",
       "      <td>2011-08-02 08:48:00</td>\n",
       "      <td>3.25</td>\n",
       "      <td>12347.0</td>\n",
       "      <td>Iceland</td>\n",
       "      <td>13.00</td>\n",
       "      <td>2011-08-02</td>\n",
       "      <td>08:48:00</td>\n",
       "    </tr>\n",
       "    <tr>\n",
       "      <th>286637</th>\n",
       "      <td>562032</td>\n",
       "      <td>22423</td>\n",
       "      <td>3</td>\n",
       "      <td>2011-08-02 08:48:00</td>\n",
       "      <td>12.75</td>\n",
       "      <td>12347.0</td>\n",
       "      <td>Iceland</td>\n",
       "      <td>38.25</td>\n",
       "      <td>2011-08-02</td>\n",
       "      <td>08:48:00</td>\n",
       "    </tr>\n",
       "  </tbody>\n",
       "</table>\n",
       "</div>"
      ],
      "text/plain": [
       "       InvoiceNo StockCode  Quantity         InvoiceDate  UnitPrice  \\\n",
       "61619     541431     23166     74215 2011-01-18 10:01:00       1.04   \n",
       "286633    562032    47559B        10 2011-08-02 08:48:00       1.25   \n",
       "286627    562032     22372         4 2011-08-02 08:48:00       4.25   \n",
       "286638    562032     23175         4 2011-08-02 08:48:00       3.25   \n",
       "286637    562032     22423         3 2011-08-02 08:48:00      12.75   \n",
       "\n",
       "        CustomerID         Country    Amount        Date      Time  \n",
       "61619      12346.0  United Kingdom  77183.60  2011-01-18  10:01:00  \n",
       "286633     12347.0         Iceland     12.50  2011-08-02  08:48:00  \n",
       "286627     12347.0         Iceland     17.00  2011-08-02  08:48:00  \n",
       "286638     12347.0         Iceland     13.00  2011-08-02  08:48:00  \n",
       "286637     12347.0         Iceland     38.25  2011-08-02  08:48:00  "
      ]
     },
     "execution_count": 22,
     "metadata": {},
     "output_type": "execute_result"
    }
   ],
   "source": [
    "filtered_dataset.head()"
   ]
  },
  {
   "cell_type": "markdown",
   "id": "d0935132-1465-41bd-a7fd-b57fd98a090b",
   "metadata": {},
   "source": [
    "### Generate a RFM (Recency, Frequency, Monetary) Model for our target data"
   ]
  },
  {
   "cell_type": "code",
   "execution_count": 42,
   "id": "63b8b20a-c2b9-4a85-a4bd-f1206a6bdfa7",
   "metadata": {},
   "outputs": [],
   "source": [
    "# Calculate the most recent date in the dataset\n",
    "latest_date = filtered_dataset[\"Date\"].max()"
   ]
  },
  {
   "cell_type": "code",
   "execution_count": 55,
   "id": "16546946-c18f-47a6-86e3-3d8b73e1d342",
   "metadata": {},
   "outputs": [],
   "source": [
    "rfm = filtered_dataset.groupby(\"CustomerID\").agg(\n",
    "    FirstPurchase=(\"Date\", lambda x: x.min().strftime(\"%m\")), # First Purchase (Month)\n",
    "    Recency=(\"Date\", lambda x: round((latest_date - x.max()).days/30)),  # Months since last purchase\n",
    "    Frequency=(\"InvoiceNo\", \"nunique\"),  # Number of unique transactions\n",
    "    Monetary=(\"Amount\", \"sum\"),  # Total spending\n",
    "    Min=(\"Amount\", \"min\"), # Minimum Spending\n",
    "    Median=(\"Amount\", \"median\"), # Median Spending\n",
    "    Max=(\"Amount\", \"max\") # Maximum Spending\n",
    ").reset_index()"
   ]
  },
  {
   "cell_type": "code",
   "execution_count": 57,
   "id": "de3f4db3-36e3-4726-a540-1d40f0558df2",
   "metadata": {},
   "outputs": [
    {
     "data": {
      "text/html": [
       "<div>\n",
       "<style scoped>\n",
       "    .dataframe tbody tr th:only-of-type {\n",
       "        vertical-align: middle;\n",
       "    }\n",
       "\n",
       "    .dataframe tbody tr th {\n",
       "        vertical-align: top;\n",
       "    }\n",
       "\n",
       "    .dataframe thead th {\n",
       "        text-align: right;\n",
       "    }\n",
       "</style>\n",
       "<table border=\"1\" class=\"dataframe\">\n",
       "  <thead>\n",
       "    <tr style=\"text-align: right;\">\n",
       "      <th></th>\n",
       "      <th>CustomerID</th>\n",
       "      <th>FirstPurchase</th>\n",
       "      <th>Recency</th>\n",
       "      <th>Frequency</th>\n",
       "      <th>Monetary</th>\n",
       "      <th>Min</th>\n",
       "      <th>Median</th>\n",
       "      <th>Max</th>\n",
       "    </tr>\n",
       "  </thead>\n",
       "  <tbody>\n",
       "    <tr>\n",
       "      <th>0</th>\n",
       "      <td>12346.0</td>\n",
       "      <td>01</td>\n",
       "      <td>11</td>\n",
       "      <td>1</td>\n",
       "      <td>77183.60</td>\n",
       "      <td>77183.60</td>\n",
       "      <td>77183.60</td>\n",
       "      <td>77183.6</td>\n",
       "    </tr>\n",
       "    <tr>\n",
       "      <th>1</th>\n",
       "      <td>12347.0</td>\n",
       "      <td>12</td>\n",
       "      <td>0</td>\n",
       "      <td>7</td>\n",
       "      <td>4310.00</td>\n",
       "      <td>5.04</td>\n",
       "      <td>17.00</td>\n",
       "      <td>249.6</td>\n",
       "    </tr>\n",
       "    <tr>\n",
       "      <th>2</th>\n",
       "      <td>12348.0</td>\n",
       "      <td>12</td>\n",
       "      <td>2</td>\n",
       "      <td>4</td>\n",
       "      <td>1797.24</td>\n",
       "      <td>13.20</td>\n",
       "      <td>41.76</td>\n",
       "      <td>240.0</td>\n",
       "    </tr>\n",
       "    <tr>\n",
       "      <th>3</th>\n",
       "      <td>12349.0</td>\n",
       "      <td>11</td>\n",
       "      <td>1</td>\n",
       "      <td>1</td>\n",
       "      <td>1757.55</td>\n",
       "      <td>6.64</td>\n",
       "      <td>17.70</td>\n",
       "      <td>300.0</td>\n",
       "    </tr>\n",
       "    <tr>\n",
       "      <th>4</th>\n",
       "      <td>12350.0</td>\n",
       "      <td>02</td>\n",
       "      <td>10</td>\n",
       "      <td>1</td>\n",
       "      <td>334.40</td>\n",
       "      <td>8.50</td>\n",
       "      <td>19.80</td>\n",
       "      <td>40.0</td>\n",
       "    </tr>\n",
       "  </tbody>\n",
       "</table>\n",
       "</div>"
      ],
      "text/plain": [
       "   CustomerID FirstPurchase  Recency  Frequency  Monetary       Min    Median  \\\n",
       "0     12346.0            01       11          1  77183.60  77183.60  77183.60   \n",
       "1     12347.0            12        0          7   4310.00      5.04     17.00   \n",
       "2     12348.0            12        2          4   1797.24     13.20     41.76   \n",
       "3     12349.0            11        1          1   1757.55      6.64     17.70   \n",
       "4     12350.0            02       10          1    334.40      8.50     19.80   \n",
       "\n",
       "       Max  \n",
       "0  77183.6  \n",
       "1    249.6  \n",
       "2    240.0  \n",
       "3    300.0  \n",
       "4     40.0  "
      ]
     },
     "execution_count": 57,
     "metadata": {},
     "output_type": "execute_result"
    }
   ],
   "source": [
    "rfm.head()"
   ]
  },
  {
   "cell_type": "markdown",
   "id": "8f8a8b92-87bc-4dc7-9ca7-03d57594de59",
   "metadata": {},
   "source": [
    "### Exploratory Data Analysis"
   ]
  },
  {
   "cell_type": "code",
   "execution_count": 96,
   "id": "c6d115f6-027f-4298-80d1-35e18e2f5066",
   "metadata": {},
   "outputs": [
    {
     "data": {
      "text/plain": [
       "<seaborn.axisgrid.FacetGrid at 0x1b19af9ed20>"
      ]
     },
     "execution_count": 96,
     "metadata": {},
     "output_type": "execute_result"
    },
    {
     "data": {
      "image/png": "[encoded data removed]",
      "text/plain": [
       "<Figure size 500x500 with 1 Axes>"
      ]
     },
     "metadata": {},
     "output_type": "display_data"
    }
   ],
   "source": [
    "sns.displot(data=rfm, x=\"Recency\", kde=True)"
   ]
  },
  {
   "cell_type": "code",
   "execution_count": 127,
   "id": "65faa7fe-59d3-466d-91cb-8761da007e32",
   "metadata": {},
   "outputs": [
    {
     "data": {
      "text/plain": [
       "<seaborn.axisgrid.FacetGrid at 0x1b233812d80>"
      ]
     },
     "execution_count": 127,
     "metadata": {},
     "output_type": "execute_result"
    },
    {
     "data": {
      "image/png": "[encoded data removed]",
      "text/plain": [
       "<Figure size 2000x1000 with 1 Axes>"
      ]
     },
     "metadata": {},
     "output_type": "display_data"
    }
   ],
   "source": [
    "sns.displot(data=rfm, x=\"Frequency\", height=10, aspect=2)"
   ]
  },
  {
   "cell_type": "code",
   "execution_count": 129,
   "id": "13fc5b3d-5a6f-4916-99a0-082ef8d8841a",
   "metadata": {},
   "outputs": [
    {
     "data": {
      "text/plain": [
       "<seaborn.axisgrid.FacetGrid at 0x1b23463c4d0>"
      ]
     },
     "execution_count": 129,
     "metadata": {},
     "output_type": "execute_result"
    },
    {
     "data": {
      "image/png": "[encoded data removed]",
      "text/plain": [
       "<Figure size 3000x1000 with 1 Axes>"
      ]
     },
     "metadata": {},
     "output_type": "display_data"
    }
   ],
   "source": [
    "sns.displot(data=rfm, x=\"Monetary\", height=10, aspect=3)"
   ]
  },
  {
   "cell_type": "code",
   "execution_count": null,
   "id": "68d94fb6-549e-41b5-baf3-a2324a94cc93",
   "metadata": {},
   "outputs": [],
   "source": []
  }
 ],
 "metadata": {
  "kernelspec": {
   "display_name": "Python 3 (ipykernel)",
   "language": "python",
   "name": "python3"
  },
  "language_info": {
   "codemirror_mode": {
    "name": "ipython",
    "version": 3
   },
   "file_extension": ".py",
   "mimetype": "text/x-python",
   "name": "python",
   "nbconvert_exporter": "python",
   "pygments_lexer": "ipython3",
   "version": "3.12.3"
  }
 },
 "nbformat": 4,
 "nbformat_minor": 5
}
